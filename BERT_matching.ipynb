{
 "cells": [
  {
   "cell_type": "code",
   "execution_count": 1,
   "metadata": {},
   "outputs": [],
   "source": [
    "import csv\n",
    "import re\n",
    "import string\n",
    "import json\n",
    "import numpy as np\n",
    "from keras_bert import Tokenizer\n",
    "from tqdm import tqdm\n",
    "from nltk.corpus import wordnet\n",
    "\n",
    "np.random.seed(0)\n",
    "config = json.load(open('config.json','r'))\n",
    "SEQ_LEN = config['SEQ_LEN']\n",
    "\n",
    "with open('../uncased_L-12_H-768_A-12/vocab.txt','r',encoding='utf8') as f:\n",
    "    token_dict = {token:i for i,token in enumerate(f.read().splitlines())}\n",
    "tokenizer = Tokenizer(token_dict)\n",
    "\n",
    "# 前処理\n",
    "def preprocessing(text,auth):\n",
    "    # 括弧内文章の削除\n",
    "    text = re.sub(r'\\(.*?\\)','',text)\n",
    "    # 記号文字の削除\n",
    "    text = text.translate(str.maketrans('','',string.punctuation))\n",
    "    # 著者名の削除\n",
    "    text = text.replace(auth,'')\n",
    "    # スペースの調整\n",
    "    text = re.sub(r'\\s+',' ',text)\n",
    "    return text"
   ]
  },
  {
   "cell_type": "code",
   "execution_count": 2,
   "metadata": {},
   "outputs": [
    {
     "name": "stdout",
     "output_type": "stream",
     "text": [
      "make train dataset...\n"
     ]
    },
    {
     "name": "stderr",
     "output_type": "stream",
     "text": [
      "100%|██████████| 1300000/1300000 [38:39<00:00, 560.42it/s] \n"
     ]
    }
   ],
   "source": [
    "# preprocessing train data -----------------------------------------------------------------------\n",
    "# load topic class labels\n",
    "print(\"make train dataset...\")\n",
    "with open('../data/topic/classes.txt','r',encoding='utf-8') as f:\n",
    "    labels = f.read().splitlines()\n",
    "topic_class_hypothesis = dict()\n",
    "for i,label in enumerate(labels):\n",
    "    topic_class_hypothesis[i] = 'this text is about ' + ' or '.join([wordnet.synsets(word)[0].definition() for word in label.split(' & ')])\n",
    "\n",
    "# load train data\n",
    "with open('../data/topic/train_pu_half_v0.txt','r',encoding='utf-8') as f:\n",
    "    texts_v0 = f.read()\n",
    "with open('../data/topic/train_pu_half_v1.txt','r',encoding='utf-8') as f:\n",
    "    texts_v1 = f.read()\n",
    "texts = texts_v0 + texts_v1\n",
    "\n",
    "# # ---------------------------------------------\n",
    "# import random\n",
    "# texts = texts.splitlines()\n",
    "# texts = random.sample(texts,10000)\n",
    "# texts = \"\\n\".join(texts)\n",
    "# # ---------------------------------------------\n",
    "\n",
    "y_train = []\n",
    "indeces, segments = [],[]\n",
    "for label_text in tqdm(texts.splitlines()):\n",
    "    label,text = label_text.split('\\t')\n",
    "    rand_base = [0,1,2,3,4,5,6,7,8,9]\n",
    "    rand_base.remove(int(label))\n",
    "    label_rand = np.random.choice(rand_base)\n",
    "    text = preprocessing(text,'')\n",
    "    ids, segs = tokenizer.encode(first=text, second=topic_class_hypothesis[int(label)], max_len=SEQ_LEN)\n",
    "    indeces.append(ids)\n",
    "    segments.append(segs)\n",
    "    y_train.append(1)\n",
    "    ids, segs = tokenizer.encode(first=text, second=topic_class_hypothesis[int(label_rand)], max_len=SEQ_LEN)\n",
    "    indeces.append(ids)\n",
    "    segments.append(segs)\n",
    "    y_train.append(0)\n",
    "x_train = [np.array(indeces),np.array(segments)]\n",
    "\n",
    "np.save('../dataset/BERT_x_train.npy', x_train)\n",
    "np.save('../dataset/BERT_y_train.npy', y_train)\n",
    "# np.save('../dataset/BERT_x_train_sample.npy', x_train)\n",
    "# np.save('../dataset/BERT_y_train_sample.npy', y_train)\n",
    "x_train,y_train=0,0"
   ]
  },
  {
   "cell_type": "code",
   "execution_count": 3,
   "metadata": {},
   "outputs": [
    {
     "name": "stderr",
     "output_type": "stream",
     "text": [
      "100%|██████████| 70000/70000 [06:12<00:00, 188.07it/s]\n"
     ]
    }
   ],
   "source": [
    "# dbpedia class ------------------------------------------------------------------------------------------------------\n",
    "with open('../data/dbpedia_csv/classes.txt','r',encoding='utf-8') as f:\n",
    "    dbpedia_class = ['this text is about '+text for text in f.read().splitlines()]\n",
    "\n",
    "with open('../data/dbpedia_csv/test.csv','r',encoding='utf-8') as f:\n",
    "    reader = [r for r in csv.reader(f)]\n",
    "    \n",
    "    # #----------------------------\n",
    "    # import random\n",
    "    # reader = random.sample(reader,1000)\n",
    "    # #----------------------------\n",
    "\n",
    "    y_test = []\n",
    "    indeces, segments = [],[]\n",
    "    for cls_num,auth,readtext in tqdm(reader,total=len(reader)):\n",
    "        for db_class in dbpedia_class:\n",
    "            ids, segs = tokenizer.encode(first=preprocessing(readtext,auth), second=db_class, max_len=SEQ_LEN)\n",
    "            indeces.append(ids)\n",
    "            segments.append(segs)\n",
    "        y_test.append(int(cls_num))\n",
    "    x_test = [np.array(indeces),np.array(segments)]\n",
    "\n",
    "np.save('../dataset/BERT_x_test.npy', x_test)\n",
    "np.save('../dataset/BERT_y_test.npy', y_test)\n",
    "# np.save('../dataset/BERT_x_test_sample.npy', x_test)\n",
    "# np.save('../dataset/BERT_y_test_sample.npy', y_test)"
   ]
  },
  {
   "cell_type": "code",
   "execution_count": 4,
   "metadata": {},
   "outputs": [
    {
     "name": "stdout",
     "output_type": "stream",
     "text": [
      "load data...\n",
      "load pretrained model...\n",
      "training...\n",
      "162500/162500 [==============================] - 14087s 87ms/step - loss: 0.2684 - mae: 0.1630 - mse: 0.0819 - acc: 0.8864\n",
      "save...\n"
     ]
    },
    {
     "name": "stderr",
     "output_type": "stream",
     "text": [
      "/home/dbl/.pyenv/versions/3.6.9/lib/python3.6/site-packages/keras/utils/generic_utils.py:497: CustomMaskWarning: Custom mask layers require a config and must override get_config. When loading, the custom mask layer must be passed to the custom_objects argument.\n",
      "  category=CustomMaskWarning)\n"
     ]
    }
   ],
   "source": [
    "import numpy as np\n",
    "import os\n",
    "os.environ['TF_CPP_MIN_LOG_LEVEL'] = '2'\n",
    "import json\n",
    "from keras_bert import load_trained_model_from_checkpoint\n",
    "from tensorflow.keras.layers import Dense,Input\n",
    "from tensorflow.keras.models import Model\n",
    "from keras_bert import AdamWarmup, calc_train_steps\n",
    "\n",
    "# パラメータの読み込み\n",
    "config = json.load(open('config.json'))\n",
    "BATCH_SIZE = config['BATCH_SIZE']\n",
    "EPOCHS = config['EPOCHS']\n",
    "SEQ_LEN = config['SEQ_LEN']\n",
    "LR = config['LR']\n",
    "\n",
    "# 学習データ読み込み\n",
    "print(\"load data...\")\n",
    "x_train = np.load('../dataset/BERT_x_train.npy').tolist()\n",
    "y_train = np.load('../dataset/BERT_y_train.npy')\n",
    "# x_train = np.load('../dataset/BERT_x_train_sample.npy').tolist()\n",
    "# y_train = np.load('../dataset/BERT_y_train_sample.npy')\n",
    "x_train =[np.array(x_train[0]),np.array(x_train[1])]\n",
    "\n",
    "# BERTの読み込み\n",
    "pretrained_path = '../uncased_L-12_H-768_A-12'\n",
    "config_path = os.path.join(pretrained_path, 'bert_config.json')\n",
    "checkpoint_path = os.path.join(pretrained_path, 'bert_model.ckpt')\n",
    "vocab_path = os.path.join(pretrained_path, 'vocab.txt')\n",
    "\n",
    "print(\"load pretrained model...\")\n",
    "bert = load_trained_model_from_checkpoint(config_path,checkpoint_path,training=True,seq_len=SEQ_LEN)\n",
    "\n",
    "decay_steps, warmup_steps = calc_train_steps(x_train[0].shape[0],batch_size=BATCH_SIZE,epochs=EPOCHS)\n",
    "\n",
    "# bert_nsp_dense = bert.get_layer('NSP-Dense').output\n",
    "# bert_model = Model(bert.input[:2],bert_nsp_dense)\n",
    "# print(\"bert predict...\")\n",
    "# bert_cls = bert_model.predict(x_train)\n",
    "\n",
    "# inputs = Input(shape=(768,))\n",
    "# output = Dense(units=1, activation='sigmoid')(inputs)\n",
    "# model = Model(inputs,output)\n",
    "\n",
    "inputs = bert.input[:2]\n",
    "bert_nsp_dense = bert.get_layer('NSP-Dense').output\n",
    "outputs = Dense(units=1, activation='sigmoid')(bert_nsp_dense)\n",
    "model = Model(inputs,outputs)\n",
    "model.compile(optimizer=AdamWarmup(decay_steps=decay_steps,warmup_steps=warmup_steps,learning_rate=LR),loss='binary_crossentropy',metrics=['mae','mse','acc'])\n",
    "print(\"training...\")\n",
    "result = model.fit(x_train,y_train,epochs=EPOCHS,batch_size=BATCH_SIZE)\n",
    "\n",
    "print(\"save...\")\n",
    "model.save('../BERT_matching_model.h5')\n",
    "# model.save('../BERT_matching_model_sample.h5')"
   ]
  },
  {
   "cell_type": "code",
   "execution_count": 6,
   "metadata": {},
   "outputs": [
    {
     "name": "stdout",
     "output_type": "stream",
     "text": [
      "load model...\n",
      "predict...\n",
      "              precision    recall  f1-score   support\n",
      "\n",
      "        Com.      0.694     0.428     0.530      5000\n",
      "        Edu.      0.377     0.979     0.544      5000\n",
      "        Art.      0.341     0.114     0.171      5000\n",
      "        Ath.      0.820     0.995     0.899      5000\n",
      "        Off.      0.555     0.847     0.670      5000\n",
      "        Mea.      0.310     0.019     0.035      5000\n",
      "        Bui.      0.390     0.210     0.273      5000\n",
      "        Nat.      0.150     0.020     0.035      5000\n",
      "        Vil.      0.899     0.442     0.592      5000\n",
      "        Ani.      0.337     0.542     0.416      5000\n",
      "        Pla.      0.188     0.321     0.237      5000\n",
      "        Alb.      0.511     0.753     0.609      5000\n",
      "        Fil.      0.399     0.514     0.449      5000\n",
      "        Wri.      0.566     0.232     0.329      5000\n",
      "\n",
      "    accuracy                          0.458     70000\n",
      "   macro avg      0.467     0.458     0.413     70000\n",
      "weighted avg      0.467     0.458     0.413     70000\n",
      "\n"
     ]
    },
    {
     "ename": "PermissionError",
     "evalue": "[Errno 13] Permission denied: 'result.txt'",
     "output_type": "error",
     "traceback": [
      "\u001b[0;31m---------------------------------------------------------------------------\u001b[0m",
      "\u001b[0;31mPermissionError\u001b[0m                           Traceback (most recent call last)",
      "\u001b[0;32m<ipython-input-6-31c0fb631942>\u001b[0m in \u001b[0;36m<module>\u001b[0;34m\u001b[0m\n\u001b[1;32m     48\u001b[0m \u001b[0mrep\u001b[0m \u001b[0;34m=\u001b[0m \u001b[0mmetrics\u001b[0m\u001b[0;34m.\u001b[0m\u001b[0mclassification_report\u001b[0m\u001b[0;34m(\u001b[0m\u001b[0my_test\u001b[0m\u001b[0;34m,\u001b[0m\u001b[0my_pred\u001b[0m\u001b[0;34m,\u001b[0m\u001b[0mlabels\u001b[0m\u001b[0;34m=\u001b[0m\u001b[0mlabels\u001b[0m\u001b[0;34m,\u001b[0m\u001b[0mtarget_names\u001b[0m\u001b[0;34m=\u001b[0m\u001b[0mtarget_class\u001b[0m\u001b[0;34m,\u001b[0m\u001b[0mdigits\u001b[0m\u001b[0;34m=\u001b[0m\u001b[0;36m3\u001b[0m\u001b[0;34m)\u001b[0m\u001b[0;34m\u001b[0m\u001b[0;34m\u001b[0m\u001b[0m\n\u001b[1;32m     49\u001b[0m \u001b[0mprint\u001b[0m\u001b[0;34m(\u001b[0m\u001b[0mrep\u001b[0m\u001b[0;34m)\u001b[0m\u001b[0;34m\u001b[0m\u001b[0;34m\u001b[0m\u001b[0m\n\u001b[0;32m---> 50\u001b[0;31m \u001b[0;32mwith\u001b[0m \u001b[0mopen\u001b[0m\u001b[0;34m(\u001b[0m\u001b[0;34m'result.txt'\u001b[0m\u001b[0;34m,\u001b[0m\u001b[0;34m'w'\u001b[0m\u001b[0;34m)\u001b[0m \u001b[0;32mas\u001b[0m \u001b[0mf\u001b[0m\u001b[0;34m:\u001b[0m\u001b[0;34m\u001b[0m\u001b[0;34m\u001b[0m\u001b[0m\n\u001b[0m\u001b[1;32m     51\u001b[0m     \u001b[0mf\u001b[0m\u001b[0;34m.\u001b[0m\u001b[0mwrite\u001b[0m\u001b[0;34m(\u001b[0m\u001b[0mrep\u001b[0m\u001b[0;34m)\u001b[0m\u001b[0;34m\u001b[0m\u001b[0;34m\u001b[0m\u001b[0m\n",
      "\u001b[0;31mPermissionError\u001b[0m: [Errno 13] Permission denied: 'result.txt'"
     ]
    }
   ],
   "source": [
    "import numpy as np\n",
    "import os\n",
    "os.environ['TF_CPP_MIN_LOG_LEVEL'] = '2'\n",
    "import json\n",
    "from keras_bert import get_custom_objects\n",
    "from keras.models import load_model\n",
    "from sklearn import metrics\n",
    "from keras_bert import load_trained_model_from_checkpoint\n",
    "from tensorflow.keras.models import Model\n",
    "\n",
    "# パラメータ読み込み\n",
    "config = json.load(open('config.json'))\n",
    "BATCH_SIZE = config['BATCH_SIZE']\n",
    "EPOCHS = config['EPOCHS']\n",
    "LR = config['LR']\n",
    "SEQ_LEN = config['SEQ_LEN']\n",
    "\n",
    "# テストデータ読み込み\n",
    "x_test = np.load('../dataset/BERT_x_test.npy').tolist()\n",
    "y_test = np.load('../dataset/BERT_y_test.npy')\n",
    "# x_test = np.load('../dataset/BERT_x_test_sample.npy').tolist()\n",
    "# y_test = np.load('../dataset/BERT_y_test_sample.npy')\n",
    "x_test =[np.array(x_test[0]),np.array(x_test[1])]\n",
    "\n",
    "# BERTの読み込み\n",
    "pretrained_path = '../uncased_L-12_H-768_A-12'\n",
    "config_path = os.path.join(pretrained_path, 'bert_config.json')\n",
    "checkpoint_path = os.path.join(pretrained_path, 'bert_model.ckpt')\n",
    "vocab_path = os.path.join(pretrained_path, 'vocab.txt')\n",
    "\n",
    "print(\"load model...\")\n",
    "\n",
    "# bert = load_trained_model_from_checkpoint(config_path,checkpoint_path,training=True,seq_len=SEQ_LEN)\n",
    "# bert_nsp_dense = bert.get_layer('NSP-Dense').output\n",
    "# bert_model = Model(bert.input[:2],bert_nsp_dense)\n",
    "# print(\"bert predict...\")\n",
    "# bert_cls = bert_model.predict(x_test)\n",
    "\n",
    "print(\"predict...\")\n",
    "model = load_model('../BERT_matching_model.h5',custom_objects=get_custom_objects())\n",
    "pred = model.predict(x_test)\n",
    "\n",
    "split_pred = np.array_split(pred,len(y_test))\n",
    "y_pred = [np.argmax(p)+1 for p in split_pred]\n",
    "\n",
    "labels = [1,2,3,4,5,6,7,8,9,10,11,12,13,14]\n",
    "target_class = [\"Com.\",\"Edu.\",\"Art.\",\"Ath.\",\"Off.\",\"Mea.\",\"Bui.\",\"Nat.\",\"Vil.\",\"Ani.\",\"Pla.\",\"Alb.\",\"Fil.\",\"Wri.\"]\n",
    "rep = metrics.classification_report(y_test,y_pred,labels=labels,target_names=target_class,digits=3)\n",
    "print(rep)\n",
    "with open('result.txt','w') as f:\n",
    "    f.write(rep)"
   ]
  }
 ],
 "metadata": {
  "kernelspec": {
   "display_name": "Python 3.6.9 64-bit ('3.6.9')",
   "language": "python",
   "name": "python3"
  },
  "language_info": {
   "codemirror_mode": {
    "name": "ipython",
    "version": 3
   },
   "file_extension": ".py",
   "mimetype": "text/x-python",
   "name": "python",
   "nbconvert_exporter": "python",
   "pygments_lexer": "ipython3",
   "version": "3.6.9"
  },
  "orig_nbformat": 4,
  "vscode": {
   "interpreter": {
    "hash": "b11d1de90a7344cdfbee299251a47ba7fb912949f3086a91bbe84e05957082a3"
   }
  }
 },
 "nbformat": 4,
 "nbformat_minor": 2
}
